{
 "cells": [
  {
   "cell_type": "code",
   "execution_count": 1,
   "id": "8854204f",
   "metadata": {},
   "outputs": [
    {
     "data": {
      "text/plain": [
       "'cuda'"
      ]
     },
     "execution_count": 1,
     "metadata": {},
     "output_type": "execute_result"
    }
   ],
   "source": [
    "import torch\n",
    "\n",
    "device = \"cuda\" if torch.cuda.is_available() else \"cpu\"\n",
    "device"
   ]
  },
  {
   "cell_type": "code",
   "execution_count": 2,
   "id": "cc9e14d3",
   "metadata": {},
   "outputs": [],
   "source": [
    "from colpali_engine.models import ColModernVBert, ColModernVBertProcessor\n",
    "\n",
    "model_id = \"ModernVBERT/colmodernvbert\"\n",
    "\n",
    "processor = ColModernVBertProcessor.from_pretrained(model_id)\n",
    "model = ColModernVBert.from_pretrained(\n",
    "            model_id,\n",
    "            torch_dtype=torch.float32,\n",
    "            trust_remote_code=True\n",
    ").to(device)"
   ]
  },
  {
   "cell_type": "code",
   "execution_count": 10,
   "id": "d62a6e24",
   "metadata": {},
   "outputs": [],
   "source": [
    "import io\n",
    "import base64\n",
    "import fitz\n",
    "from PIL import Image\n",
    "from tqdm import tqdm\n",
    "\n",
    "def page_to_pil(page: fitz.Page) -> Image.Image:\n",
    "    pix = page.get_pixmap(dpi=300)\n",
    "    img = pix.pil_image()\n",
    "    return img\n",
    "\n",
    "def image_to_embedding(img: Image.Image) -> torch.Tensor:\n",
    "    \"\"\"\n",
    "    NOTE: Batch processing would be better.\n",
    "    Here only individually for checking with tqdm.\n",
    "    \"\"\"\n",
    "    inputs = processor.process_images([img])\n",
    "    inputs = {k: v.to(device) for k, v in inputs.items()}\n",
    "    with torch.no_grad():\n",
    "        embeddings = model(**inputs)\n",
    "\n",
    "    if embeddings.dim() == 3 and embeddings.shape[0] == 1:\n",
    "        embeddings = embeddings.squeeze(0)\n",
    "    return embeddings.cpu()\n",
    "\n",
    "def pil_to_base64(img: Image.Image) -> str:\n",
    "    if img.mode != \"RGB\":\n",
    "        img = img.convert(\"RGB\")\n",
    "    buffer = io.BytesIO()\n",
    "    img.save(buffer, format=\"JPEG\")\n",
    "    buffer.seek(0)\n",
    "    img_bytes = buffer.getvalue()\n",
    "    return base64.b64encode(img_bytes).decode(\"utf-8\")\n",
    "\n",
    "def process_document(path: str) -> tuple[list[torch.Tensor], list[dict[str, str|int]]]:\n",
    "    doc = fitz.open(path)\n",
    "    embeddings = []\n",
    "    payloads = []\n",
    "    for i, _ in tqdm(enumerate(doc), total=len(doc)):\n",
    "        page = doc.load_page(i)\n",
    "        # processing\n",
    "        img = page_to_pil(page)\n",
    "        embedding = image_to_embedding(img)\n",
    "        image_encoding = pil_to_base64(img)\n",
    "        # appending\n",
    "        embeddings.append(embedding)\n",
    "        payloads.append({\"page\": i+1, \"image\": image_encoding})\n",
    "    doc.close()\n",
    "    return embeddings, payloads"
   ]
  },
  {
   "cell_type": "code",
   "execution_count": 11,
   "id": "da49e5d7",
   "metadata": {},
   "outputs": [
    {
     "name": "stderr",
     "output_type": "stream",
     "text": [
      "100%|██████████| 48/48 [00:58<00:00,  1.21s/it]\n"
     ]
    }
   ],
   "source": [
    "embeddings, payloads = process_document(\"./data/United-in-Science-2024_en.pdf\")"
   ]
  },
  {
   "cell_type": "code",
   "execution_count": 8,
   "id": "e2832cd7",
   "metadata": {},
   "outputs": [],
   "source": [
    "from qdrant_client import QdrantClient, models\n",
    "\n",
    "collection_name = \"DocumentRetrieval\"\n",
    "path = \"./qdrant\"\n",
    "client = QdrantClient(path=path) "
   ]
  },
  {
   "cell_type": "code",
   "execution_count": 14,
   "id": "4b4c7a36",
   "metadata": {},
   "outputs": [
    {
     "name": "stdout",
     "output_type": "stream",
     "text": [
      "Collection already exists!\n"
     ]
    }
   ],
   "source": [
    "if not client.collection_exists(collection_name=collection_name):\n",
    "    import uuid\n",
    "    print(\"Create collection...\")\n",
    "    # Create\n",
    "    client.create_collection(\n",
    "        collection_name=collection_name,\n",
    "        vectors_config=models.VectorParams(\n",
    "            size=128,\n",
    "            distance=models.Distance.COSINE,\n",
    "            multivector_config=models.MultiVectorConfig(\n",
    "                comparator=models.MultiVectorComparator.MAX_SIM\n",
    "            )\n",
    "        )\n",
    "    )\n",
    "    # Create Points\n",
    "    points = []\n",
    "    for i, (embedding, payload) in enumerate(zip(embeddings, payloads)):\n",
    "        if isinstance(embedding, torch.Tensor):\n",
    "            multi_vector = embedding.cpu().numpy().tolist()\n",
    "        else:\n",
    "            multi_vector = embedding\n",
    "        \n",
    "        points.append(\n",
    "            models.PointStruct(\n",
    "                id=str(uuid.uuid4()),  \n",
    "                vector=multi_vector,   \n",
    "                payload=payload        \n",
    "            )\n",
    "        )\n",
    "\n",
    "    # Upload\n",
    "    client.upsert(\n",
    "        collection_name=collection_name,\n",
    "        wait=True,\n",
    "        points=points\n",
    "    )\n",
    "\n",
    "else:\n",
    "    print(\"Collection already exists!\")\n"
   ]
  }
 ],
 "metadata": {
  "kernelspec": {
   "display_name": "vision-rag",
   "language": "python",
   "name": "python3"
  },
  "language_info": {
   "codemirror_mode": {
    "name": "ipython",
    "version": 3
   },
   "file_extension": ".py",
   "mimetype": "text/x-python",
   "name": "python",
   "nbconvert_exporter": "python",
   "pygments_lexer": "ipython3",
   "version": "3.11.13"
  }
 },
 "nbformat": 4,
 "nbformat_minor": 5
}
